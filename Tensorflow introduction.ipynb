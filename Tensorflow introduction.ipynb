{
 "metadata": {
  "language_info": {
   "codemirror_mode": {
    "name": "ipython",
    "version": 3
   },
   "file_extension": ".py",
   "mimetype": "text/x-python",
   "name": "python",
   "nbconvert_exporter": "python",
   "pygments_lexer": "ipython3",
   "version": "3.8.8"
  },
  "orig_nbformat": 4,
  "kernelspec": {
   "name": "python3",
   "display_name": "Python 3.8.8 64-bit ('base': conda)"
  },
  "interpreter": {
   "hash": "b3ba2566441a7c06988d0923437866b63cedc61552a5af99d1f4fb67d367b25f"
  }
 },
 "nbformat": 4,
 "nbformat_minor": 2,
 "cells": [
  {
   "cell_type": "code",
   "execution_count": 2,
   "metadata": {},
   "outputs": [],
   "source": [
    "import tensorflow as tf"
   ]
  },
  {
   "cell_type": "code",
   "execution_count": 3,
   "metadata": {},
   "outputs": [],
   "source": [
    "string = tf.Variable(\"this is a string\", tf.string)\n",
    "number = tf.Variable(324, tf.int16)\n",
    "floating = tf.Variable(3.567, tf.float64)"
   ]
  },
  {
   "source": [
    "print(string)\n",
    "print(number)\n",
    "print(floating)"
   ],
   "cell_type": "code",
   "metadata": {},
   "execution_count": 4,
   "outputs": [
    {
     "output_type": "stream",
     "name": "stdout",
     "text": [
      "<tf.Variable 'Variable:0' shape=() dtype=string, numpy=b'this is a string'>\n<tf.Variable 'Variable:0' shape=() dtype=int32, numpy=324>\n<tf.Variable 'Variable:0' shape=() dtype=float32, numpy=3.567>\n"
     ]
    }
   ]
  },
  {
   "source": [
    "Rank/Degree of Tensor \n",
    "Another word for rank is degree, these terms simply mean the number of dimensions involved in the tensor. What we created above is a thensor of rank 0, also know as a scalar.\n",
    "now we'll create some tensors of higher degrees/rank"
   ],
   "cell_type": "markdown",
   "metadata": {}
  },
  {
   "cell_type": "code",
   "execution_count": 5,
   "metadata": {},
   "outputs": [],
   "source": [
    "rank1_tensor = tf.Variable([\"test\"], tf.string)\n",
    "rank2_tensor = tf.Variable([[\"test\", \"ok\"], [\"test\",\"yes\"]], tf.string)"
   ]
  },
  {
   "cell_type": "code",
   "execution_count": 6,
   "metadata": {},
   "outputs": [
    {
     "output_type": "execute_result",
     "data": {
      "text/plain": [
       "<tf.Tensor: shape=(), dtype=int32, numpy=2>"
      ]
     },
     "metadata": {},
     "execution_count": 6
    }
   ],
   "source": [
    "tf.rank(rank2_tensor)\n"
   ]
  },
  {
   "cell_type": "code",
   "execution_count": 7,
   "metadata": {},
   "outputs": [
    {
     "output_type": "execute_result",
     "data": {
      "text/plain": [
       "TensorShape([2, 2])"
      ]
     },
     "metadata": {},
     "execution_count": 7
    }
   ],
   "source": [
    "rank2_tensor.shape"
   ]
  },
  {
   "source": [
    "Changin shapes \n",
    "The number of elements of a tensor is the product os the sizes of all its shapes. There are often many shapes that have the same number of elements, making it convenient to be able to change the shape if a tensor"
   ],
   "cell_type": "markdown",
   "metadata": {}
  },
  {
   "cell_type": "code",
   "execution_count": 28,
   "metadata": {},
   "outputs": [],
   "source": [
    "tensor1 = tf.zeros([1,2,3]) #tf.ones() creates a shape [1,2,3] tensor fill of ones\n",
    "tensor2 = tf.reshape(tensor1, [2,3,1]) #reshape existing data to shape [2,3,1]\n",
    "tensor3 = tf.reshape(tensor2, [3, -1])\n",
    "# -1 telles the tensor to calculate the size of the dimension in that place, this will reshape the tensor to [3,3] The number of elements in #the reshaped tensor MUST match the # #number in the original.\n"
   ]
  },
  {
   "cell_type": "code",
   "execution_count": 29,
   "metadata": {},
   "outputs": [
    {
     "output_type": "stream",
     "name": "stdout",
     "text": [
      "tf.Tensor(\n[[[0. 0. 0.]\n  [0. 0. 0.]]], shape=(1, 2, 3), dtype=float32)\ntf.Tensor(\n[[[0.]\n  [0.]\n  [0.]]\n\n [[0.]\n  [0.]\n  [0.]]], shape=(2, 3, 1), dtype=float32)\ntf.Tensor(\n[[0. 0.]\n [0. 0.]\n [0. 0.]], shape=(3, 2), dtype=float32)\n"
     ]
    }
   ],
   "source": [
    "print(tensor1)\n",
    "print(tensor2)\n",
    "print(tensor3)"
   ]
  },
  {
   "source": [
    "Before we go to far I will mention that there are different types of tensors. These are the most commonly used and we will talk more in depth about each as they are used.\n",
    " - Variable\n",
    " - Constant\n",
    " - Placegikder\n",
    " - SparseTensor\n",
    "With the exeption of Variable all of these tensors are immuttable, meaning their value may not change during execution.\n",
    "\n"
   ],
   "cell_type": "markdown",
   "metadata": {}
  }
 ]
}